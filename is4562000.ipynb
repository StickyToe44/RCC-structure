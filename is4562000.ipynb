{
 "cells": [
  {
   "cell_type": "code",
   "execution_count": 3,
   "id": "574a125c",
   "metadata": {},
   "outputs": [],
   "source": [
    "import math"
   ]
  },
  {
   "cell_type": "code",
   "execution_count": 4,
   "id": "1a5b9773",
   "metadata": {},
   "outputs": [],
   "source": [
    "def mf_tension(fy, pt_req, pt_pro):\n",
    "    \"\"\"\n",
    "        Modification factor for tension reinforcemnt\n",
    "        Ref IS 456:2000 Fig 4\n",
    "    \"\"\"\n",
    "    fs = 0.58*fy*pt_req/pt_pro\n",
    "    mft = 2 if round(1/(0.225+(0.00322*fs)-(0.625*math.log10(1/pt_pro))), 2) >=2 else round(1/(0.225+(0.00322*fs)-(0.625*math.log10(1/pt_pro))), 2)\n",
    "    return mft"
   ]
  },
  {
   "cell_type": "code",
   "execution_count": 5,
   "id": "c52d688d",
   "metadata": {},
   "outputs": [],
   "source": [
    "def mf_compression(pc):\n",
    "    \"\"\"\n",
    "        Modification factor for compression reinforcemnt\n",
    "        Ref IS 456:2000 Fig 5\n",
    "    \"\"\"\n",
    "    if pc < 0.75:\n",
    "        mfc = 1+(0.15*pc/0.5)\n",
    "    elif round((1.6*pc/(pc+0.275)),2) >= 1.5:\n",
    "        mfc = 1.5\n",
    "    else:\n",
    "        mfc = round((1.6*pc/(pc+0.275)),2)\n",
    "    return mfc"
   ]
  },
  {
   "cell_type": "code",
   "execution_count": 6,
   "id": "0a629a6d",
   "metadata": {},
   "outputs": [],
   "source": [
    "def tau_c(fck, pt):\n",
    "    \"\"\"\n",
    "        Modification factor for compression reinforcement in limit state design method\n",
    "        Ref IS 456:2000 Table 19\n",
    "    \"\"\"\n",
    "    temp = (0.8*fck)/(6.89*pt) if (0.8*fck)/(6.89*pt) > 1 else 1\n",
    "    tau_c = round(0.85*math.sqrt(0.8*fck)*((math.sqrt(1+5*temp))-1)/(6*temp),2)\n",
    "    return tau_c"
   ]
  },
  {
   "cell_type": "code",
   "execution_count": 7,
   "id": "aed46ee0",
   "metadata": {},
   "outputs": [],
   "source": [
    "def ktau_c(fck, pt, D):\n",
    "    \"\"\"\n",
    "        Permissible shear stress in concrete (ktc) for solid slabs in limit state design method\n",
    "        Ref IS 456:2000 Cl 40.2.1.1, Table 19\n",
    "    \"\"\"\n",
    "    if D<=150:\n",
    "        k = 1.3\n",
    "    elif D >= 300:\n",
    "        k = 1\n",
    "    else:\n",
    "        k = ((-0.3)*(D-150)/150)+1.3\n",
    "    ktau_c = round(tau_c(fck, pt)*k, 2)\n",
    "    return ktau_c"
   ]
  },
  {
   "cell_type": "code",
   "execution_count": 26,
   "id": "95a4120d",
   "metadata": {},
   "outputs": [],
   "source": [
    "def ast_single(fy, fck, b, D, cmin, cg, Mu):\n",
    "    \"\"\"\n",
    "        Area of steel calculation by limit state design method\n",
    "        Ref IS 456-2000 Cl G-1.1b For sections without compression reinforcement\n",
    "    \"\"\"\n",
    "    d = D-(cmin+cg)\n",
    "    ast = (0.5*fck*b*d/fy)*(1-(math.sqrt(1-4.6*Mu*1000000/(fck*b*d**2))))\n",
    "    pt = ast/(b*d)*100\n",
    "    return (round(ast, 2), round(pt, 2))"
   ]
  }
 ],
 "metadata": {
  "kernelspec": {
   "display_name": "Python 3",
   "language": "python",
   "name": "python3"
  },
  "language_info": {
   "codemirror_mode": {
    "name": "ipython",
    "version": 3
   },
   "file_extension": ".py",
   "mimetype": "text/x-python",
   "name": "python",
   "nbconvert_exporter": "python",
   "pygments_lexer": "ipython3",
   "version": "3.9.5"
  }
 },
 "nbformat": 4,
 "nbformat_minor": 5
}
